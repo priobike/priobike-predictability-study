{
 "cells": [
  {
   "cell_type": "markdown",
   "metadata": {},
   "source": [
    "# Get things from tld server"
   ]
  },
  {
   "cell_type": "code",
   "execution_count": null,
   "metadata": {},
   "outputs": [],
   "source": [
    "import requests\n",
    "import json\n",
    "\n",
    "session = requests.Session()\n",
    "\n",
    "things = []\n",
    "\n",
    "def sync_things_page(page):\n",
    "    elements_per_page = 100\n",
    "    page_url = \"https://tld.iot.hamburg.de/v1.1/Things?$filter=Datastreams/properties/serviceName eq 'HH_STA_traffic_lights' &$expand=Datastreams,Locations&$skip=\"+str(page*elements_per_page)\n",
    "    print(page_url)\n",
    "    \n",
    "    resp = session.get(page_url).json()\n",
    "    \n",
    "    for thing in resp[\"value\"]:\n",
    "        things.append(thing)\n",
    "    \n",
    "    return \"@iot.nextLink\" in resp\n",
    "\n",
    "page = 0\n",
    "while True:\n",
    "    found_more = False\n",
    "    found_more = sync_things_page(page)\n",
    "    page += 1\n",
    "    print(f\"Bulk syncing things from page {page}...\")\n",
    "    if not found_more:\n",
    "        break\n",
    "\n",
    "with open(f'things.json', 'w', encoding='utf-8') as fp:\n",
    "    json.dump(things, fp)"
   ]
  }
 ],
 "metadata": {
  "language_info": {
   "name": "python"
  },
  "orig_nbformat": 4
 },
 "nbformat": 4,
 "nbformat_minor": 2
}
