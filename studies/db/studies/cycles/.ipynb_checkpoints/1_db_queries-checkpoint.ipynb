{
 "cells": [
  {
   "cell_type": "code",
   "execution_count": 1,
   "metadata": {},
   "outputs": [
    {
     "name": "stdout",
     "output_type": "stream",
     "text": [
      "Amount of datastreams: 5418\n",
      "Amount of datastream ids: 5418\n",
      "Amount of datastreams: 5419\n",
      "Amount of datastream ids: 5419\n",
      "Amount of datastreams: 5418\n",
      "Amount of datastream ids: 5418\n"
     ]
    },
    {
     "ename": "",
     "evalue": "",
     "output_type": "error",
     "traceback": [
      "\u001b[1;31mThe Kernel crashed while executing code in the the current cell or a previous cell. Please review the code in the cell(s) to identify a possible cause of the failure. Click <a href='https://aka.ms/vscodeJupyterKernelCrash'>here</a> for more info. View Jupyter <a href='command:jupyter.viewOutput'>log</a> for further details."
     ]
    },
    {
     "ename": "",
     "evalue": "",
     "output_type": "error",
     "traceback": [
      "\u001b[1;31mCanceled future for execute_request message before replies were done"
     ]
    }
   ],
   "source": [
    "# Prepare import of modules from parent directory.\n",
    "import os\n",
    "import sys\n",
    "module_path = os.path.abspath(os.path.join('../../'))\n",
    "if module_path not in sys.path:\n",
    "    sys.path.append(module_path)\n",
    "\n",
    "\"\"\"\n",
    "Get all relevant observations for one random hour (for testing purposes).\n",
    "\"\"\"\n",
    "\n",
    "from studies import db\n",
    "\n",
    "from studies.cycles.lib import query_builder\n",
    "from preparations import things_provider\n",
    "from _config import TIMERANGES, CURRENT_IDENTIFIER, OBSERVATIONS_CSV_FILE\n",
    "\n",
    "\n",
    "tp = things_provider.ThingsProvider()\n",
    "tp.filter_only_bike_things()\n",
    "tp.filter_only_primary_signal_datastreams()\n",
    "primary_signal_datastream_ids_bike = tp.get_datastream_ids()\n",
    "\n",
    "tp = things_provider.ThingsProvider()\n",
    "tp.filter_only_bike_things()\n",
    "tp.filter_only_cycle_second_datastreams()\n",
    "cycle_second_datastream_ids_bike = tp.get_datastream_ids()\n",
    "\n",
    "tp = things_provider.ThingsProvider()\n",
    "tp.filter_only_bike_things()\n",
    "tp.filter_only_signal_program_datastreams()\n",
    "program_signal_datastream_ids_bike = tp.get_datastream_ids()\n",
    "\n",
    "datastream_ids = primary_signal_datastream_ids_bike + cycle_second_datastream_ids_bike + program_signal_datastream_ids_bike\n",
    "\n",
    "db = db.DBClient()\n",
    "relevant_observations_query_bike = query_builder.get_relevant_observations_for_given_timeranges(datastream_ids, TIMERANGES[CURRENT_IDENTIFIER])\n",
    "relevant_observations_rows_bike = db.execute_query(relevant_observations_query_bike)\n",
    "db.close()\n",
    "\n",
    "csv_header = \"phenomenon_time,result_time,received_time,result,datastream_id,mqtt\"\n",
    "csv = csv_header + \"\\n\"\n",
    "for row in relevant_observations_rows_bike:\n",
    "    csv += \",\".join([str(x) for x in row]) + \"\\n\"\n",
    "\n",
    "with open(OBSERVATIONS_CSV_FILE, \"w\") as f:\n",
    "    f.write(csv)\n"
   ]
  }
 ],
 "metadata": {
  "kernelspec": {
   "display_name": "Python 3 (ipykernel)",
   "language": "python",
   "name": "python3"
  },
  "language_info": {
   "codemirror_mode": {
    "name": "ipython",
    "version": 3
   },
   "file_extension": ".py",
   "mimetype": "text/x-python",
   "name": "python",
   "nbconvert_exporter": "python",
   "pygments_lexer": "ipython3",
   "version": "3.8.10"
  },
  "orig_nbformat": 4
 },
 "nbformat": 4,
 "nbformat_minor": 2
}
