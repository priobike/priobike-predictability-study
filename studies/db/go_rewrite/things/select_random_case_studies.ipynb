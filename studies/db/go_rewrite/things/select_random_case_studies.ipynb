{
 "cells": [
  {
   "cell_type": "code",
   "execution_count": 1,
   "metadata": {},
   "outputs": [
    {
     "name": "stdout",
     "output_type": "stream",
     "text": [
      "318\n",
      "77795\n"
     ]
    }
   ],
   "source": [
    "import os\n",
    "\n",
    "top_left_cells = []\n",
    "top_right_cells = []\n",
    "bottom_left_cells = []\n",
    "bottom_right_cells = []\n",
    "\n",
    "for filename in os.listdir(\"case_studies_all\"):\n",
    "    if \".json\" not in filename:\n",
    "        continue\n",
    "    elif \"top_right\" in filename:\n",
    "        top_right_cells.append(filename)\n",
    "    elif \"bottom_right\" in filename:\n",
    "        bottom_right_cells.append(filename)\n",
    "    elif \"top_left\" in filename:\n",
    "        top_left_cells.append(filename)\n",
    "    elif \"bottom_left\" in filename:\n",
    "        bottom_left_cells.append(filename)\n",
    "    \n",
    "    \n",
    "\n",
    "import random\n",
    "\n",
    "print(len(top_left_cells))\n",
    "print(len(top_right_cells))\n",
    "print(len(bottom_left_cells))\n",
    "print(len(bottom_right_cells))\n",
    "\n",
    "top_left_cells_random_subset = random.sample(top_left_cells, 100)\n",
    "top_right_cells_random_subset = random.sample(top_right_cells, 100)\n",
    "bottom_left_cells_random_subset = random.sample(bottom_left_cells, 100)\n",
    "bottom_right_cells_random_subset = random.sample(bottom_right_cells, 100)\n",
    "\n",
    "# Move files to \"random_case_studies\" folder\n",
    "import shutil\n",
    "\n",
    "for filename in top_left_cells_random_subset:\n",
    "    shutil.copyfile(\"case_studies_all/\" + filename, \"case_studies_random/\" + filename)\n",
    "for filename in top_right_cells_random_subset:\n",
    "    shutil.copyfile(\"case_studies_all/\" + filename, \"case_studies_random/\" + filename)\n",
    "for filename in bottom_left_cells_random_subset:\n",
    "    shutil.copyfile(\"case_studies_all/\" + filename, \"case_studies_random/\" + filename)\n",
    "for filename in bottom_right_cells_random_subset:\n",
    "    shutil.copyfile(\"case_studies_all/\" + filename, \"case_studies_random/\" + filename)\n",
    "    \n",
    "    "
   ]
  }
 ],
 "metadata": {
  "kernelspec": {
   "display_name": "Python 3 (ipykernel)",
   "language": "python",
   "name": "python3"
  },
  "orig_nbformat": 4
 },
 "nbformat": 4,
 "nbformat_minor": 2
}
