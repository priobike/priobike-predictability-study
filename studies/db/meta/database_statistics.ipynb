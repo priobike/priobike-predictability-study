{
 "cells": [
  {
   "cell_type": "markdown",
   "metadata": {},
   "source": [
    "# Rows in 'observation_dbs' table"
   ]
  },
  {
   "cell_type": "code",
   "execution_count": 1,
   "metadata": {},
   "outputs": [
    {
     "name": "stdout",
     "output_type": "stream",
     "text": [
      "Rows in 'observation_dbs' table\n",
      "(2417432015,)\n"
     ]
    }
   ],
   "source": [
    "import psycopg2\n",
    "\n",
    "conn = psycopg2.connect(\n",
    "    host=\"priobike-sentry.inf.tu-dresden.de\",\n",
    "    port=443,\n",
    "    database=\"observations\",\n",
    "    user=\"postgres\",\n",
    "    password=\"Et7RvZ4TjEBHRF\")\n",
    "\n",
    "cur = conn.cursor()\n",
    "cur.execute('SELECT COUNT(*) FROM observation_dbs;')\n",
    "rows_observation_dbs = cur.fetchone()\n",
    "print(\"Rows in 'observation_dbs' table\")\n",
    "print(rows_observation_dbs)\n",
    "\n",
    "cur.close()\n",
    "conn.close()"
   ]
  },
  {
   "cell_type": "markdown",
   "metadata": {},
   "source": [
    "# Rows in 'latest_http_phenomenon_times' table"
   ]
  },
  {
   "cell_type": "code",
   "execution_count": 2,
   "metadata": {},
   "outputs": [
    {
     "name": "stdout",
     "output_type": "stream",
     "text": [
      "Rows in 'latest_http_phenomenon_times' table\n",
      "(68078,)\n"
     ]
    }
   ],
   "source": [
    "import psycopg2\n",
    "\n",
    "# Connect to database\n",
    "conn = psycopg2.connect(\n",
    "    host=\"priobike-sentry.inf.tu-dresden.de\",\n",
    "    port=443,\n",
    "    database=\"observations\",\n",
    "    user=\"postgres\",\n",
    "    password=\"Et7RvZ4TjEBHRF\")\n",
    "\n",
    "cur = conn.cursor()\n",
    "cur.execute('SELECT COUNT(*) FROM latest_http_phenomenon_times;')\n",
    "rows_latest_http_phenomenon_times = cur.fetchone()\n",
    "print(\"Rows in 'latest_http_phenomenon_times' table\")\n",
    "print(rows_latest_http_phenomenon_times)\n",
    "\n",
    "# Close connection\n",
    "cur.close()\n",
    "conn.close()"
   ]
  }
 ],
 "metadata": {
  "kernelspec": {
   "display_name": "Python 3 (ipykernel)",
   "language": "python",
   "name": "python3"
  },
  "language_info": {
   "codemirror_mode": {
    "name": "ipython",
    "version": 3
   },
   "file_extension": ".py",
   "mimetype": "text/x-python",
   "name": "python",
   "nbconvert_exporter": "python",
   "pygments_lexer": "ipython3",
   "version": "3.10.12"
  },
  "orig_nbformat": 4
 },
 "nbformat": 4,
 "nbformat_minor": 2
}
