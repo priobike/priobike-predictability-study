{
 "cells": [
  {
   "cell_type": "code",
   "execution_count": 8,
   "metadata": {},
   "outputs": [
    {
     "name": "stdout",
     "output_type": "stream",
     "text": [
      "   phenonemon_time    result_time  received_time  result  datastream_id   mqtt\n",
      "0       1696413998  1696410402912  1696410402927       3          81723   True\n",
      "1       1696413998  1696410402913  1696410402927       3          60487   True\n",
      "2       1696414005  1696410408297  1696410408313       1          60487   True\n",
      "3       1696413615  1696410024678  1696410409931       4          60584  False\n",
      "4       1696413616  1696410025791  1696410409931       3          60584  False\n"
     ]
    }
   ],
   "source": [
    "import pandas as pd\n",
    "\n",
    "# Parse csv file into pandas dataframe\n",
    "csv_file = 'observations_example_timerange.csv'\n",
    "df = pd.read_csv(csv_file)\n",
    "\n",
    "# Sort by phenonemon_time\n",
    "df = df.sort_values(by=['phenomenon_time'])\n",
    "\n",
    "# Directory of things where each thing ID maps to a list of programs with their cycles for that thing\n",
    "thing_cycles = {}\n",
    "# Directory of things where each thing ID maps to a dict of the three datastream types for that thing\n",
    "thing_datastreams = {}\n",
    "\n",
    "# Split dataframe such that we have one dataframe per datastream_id\n",
    "datastreams = {}\n",
    "for datastream_id in df['datastream_id'].unique():\n",
    "    datastreams[datastream_id] = df[df['datastream_id'] == datastream_id]\n",
    "    \n"
   ]
  }
 ],
 "metadata": {
  "kernelspec": {
   "display_name": "Python 3 (ipykernel)",
   "language": "python",
   "name": "python3"
  },
  "language_info": {
   "codemirror_mode": {
    "name": "ipython",
    "version": 3
   },
   "file_extension": ".py",
   "mimetype": "text/x-python",
   "name": "python",
   "nbconvert_exporter": "python",
   "pygments_lexer": "ipython3",
   "version": "3.8.10"
  },
  "orig_nbformat": 4
 },
 "nbformat": 4,
 "nbformat_minor": 2
}
