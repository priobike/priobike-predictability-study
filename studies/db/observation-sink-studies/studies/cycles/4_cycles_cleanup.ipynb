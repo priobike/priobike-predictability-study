{
 "cells": [
  {
   "cell_type": "code",
   "execution_count": null,
   "metadata": {},
   "outputs": [],
   "source": [
    "# pro Programm:\n",
    "# - Zyklen entfernen, bei denen Farben aufeinander folgen, die per Definition nicht aufeinander folgen dürfen\n",
    "# - Zyklen entfernen, die deutlich länger oder kürzer (+/- 50%) als der Median aller Zyklen in dem Programm sind\n",
    "# \n",
    "# Zählen, wie oft pro Thing Zyklen entfernt werden# Prepare import of modules from parent directory.\n",
    "\n",
    "import os\n",
    "import sys\n",
    "module_path = os.path.abspath(os.path.join('../../'))\n",
    "if module_path not in sys.path:\n",
    "    sys.path.append(module_path)\n",
    "\n",
    "import json\n",
    "\n",
    "\n",
    "\n",
    "with open('observations_example_timerange_reconstructed_cycles.json', 'r') as fp:\n",
    "    observations_example_timerange_reconstructed_cycles = json.load(fp)"
   ]
  }
 ],
 "metadata": {
  "language_info": {
   "name": "python"
  },
  "orig_nbformat": 4
 },
 "nbformat": 4,
 "nbformat_minor": 2
}
