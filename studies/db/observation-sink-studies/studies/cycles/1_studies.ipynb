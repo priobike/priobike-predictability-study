{
 "cells": [
  {
   "cell_type": "code",
   "execution_count": 1,
   "metadata": {},
   "outputs": [
    {
     "data": {
      "text/plain": [
       "'Iteration: 6762 - Number of things 66'"
      ]
     },
     "metadata": {},
     "output_type": "display_data"
    },
    {
     "ename": "KeyboardInterrupt",
     "evalue": "",
     "output_type": "error",
     "traceback": [
      "\u001b[0;31m---------------------------------------------------------------------------\u001b[0m",
      "\u001b[0;31mKeyboardInterrupt\u001b[0m                         Traceback (most recent call last)",
      "\u001b[1;32m/home/admin/observation-sink-studies/studies/cycles/1_studies.ipynb Cell 1\u001b[0m line \u001b[0;36m5\n\u001b[1;32m     <a href='vscode-notebook-cell://ssh-remote%2Bvirtual-cyclist.inf.tu-dresden.de/home/admin/observation-sink-studies/studies/cycles/1_studies.ipynb#W0sdnNjb2RlLXJlbW90ZQ%3D%3D?line=49'>50</a>\u001b[0m \u001b[39mif\u001b[39;00m thing_name \u001b[39mnot\u001b[39;00m \u001b[39min\u001b[39;00m things:\n\u001b[1;32m     <a href='vscode-notebook-cell://ssh-remote%2Bvirtual-cyclist.inf.tu-dresden.de/home/admin/observation-sink-studies/studies/cycles/1_studies.ipynb#W0sdnNjb2RlLXJlbW90ZQ%3D%3D?line=50'>51</a>\u001b[0m     things[thing_name] \u001b[39m=\u001b[39m Thing(thing_name, WINDOW_SIZE_THINGS, VALIDATION, RETRIEVE_ALL_CLEANUP_STATS)\n\u001b[0;32m---> <a href='vscode-notebook-cell://ssh-remote%2Bvirtual-cyclist.inf.tu-dresden.de/home/admin/observation-sink-studies/studies/cycles/1_studies.ipynb#W0sdnNjb2RlLXJlbW90ZQ%3D%3D?line=52'>53</a>\u001b[0m things[thing_name]\u001b[39m.\u001b[39;49madd_observation(layer_name, row[\u001b[39m0\u001b[39;49m], row[\u001b[39m1\u001b[39;49m])\n\u001b[1;32m     <a href='vscode-notebook-cell://ssh-remote%2Bvirtual-cyclist.inf.tu-dresden.de/home/admin/observation-sink-studies/studies/cycles/1_studies.ipynb#W0sdnNjb2RlLXJlbW90ZQ%3D%3D?line=54'>55</a>\u001b[0m clear_output(wait\u001b[39m=\u001b[39m\u001b[39mTrue\u001b[39;00m)\n\u001b[1;32m     <a href='vscode-notebook-cell://ssh-remote%2Bvirtual-cyclist.inf.tu-dresden.de/home/admin/observation-sink-studies/studies/cycles/1_studies.ipynb#W0sdnNjb2RlLXJlbW90ZQ%3D%3D?line=55'>56</a>\u001b[0m display(\u001b[39m'\u001b[39m\u001b[39mIteration: \u001b[39m\u001b[39m'\u001b[39m \u001b[39m+\u001b[39m \u001b[39mstr\u001b[39m(i) \u001b[39m+\u001b[39m\u001b[39m'\u001b[39m\u001b[39m - Number of things \u001b[39m\u001b[39m'\u001b[39m \u001b[39m+\u001b[39m \u001b[39mstr\u001b[39m(\u001b[39mlen\u001b[39m(things)))\n",
      "File \u001b[0;32m~/observation-sink-studies/studies/cycles/lib/thing.py:301\u001b[0m, in \u001b[0;36mThing.add_observation\u001b[0;34m(self, layer_name, phenomenon_time, result)\u001b[0m\n\u001b[1;32m    299\u001b[0m \u001b[39mself\u001b[39m\u001b[39m.\u001b[39mticker \u001b[39m+\u001b[39m\u001b[39m=\u001b[39m \u001b[39m1\u001b[39m\n\u001b[1;32m    300\u001b[0m \u001b[39mif\u001b[39;00m \u001b[39mself\u001b[39m\u001b[39m.\u001b[39mticker \u001b[39m>\u001b[39m \u001b[39mself\u001b[39m\u001b[39m.\u001b[39mwindow_size:\n\u001b[0;32m--> 301\u001b[0m     \u001b[39mself\u001b[39;49m\u001b[39m.\u001b[39;49mprocess_window()\n\u001b[1;32m    302\u001b[0m     \u001b[39mself\u001b[39m\u001b[39m.\u001b[39mticker \u001b[39m=\u001b[39m \u001b[39m0\u001b[39m\n",
      "File \u001b[0;32m~/observation-sink-studies/studies/cycles/lib/thing.py:326\u001b[0m, in \u001b[0;36mThing.process_window\u001b[0;34m(self)\u001b[0m\n\u001b[1;32m    324\u001b[0m \u001b[39m# 3. Validate cycles\u001b[39;00m\n\u001b[1;32m    325\u001b[0m \u001b[39mif\u001b[39;00m \u001b[39mself\u001b[39m\u001b[39m.\u001b[39mvalidation:\n\u001b[0;32m--> 326\u001b[0m     \u001b[39mself\u001b[39;49m\u001b[39m.\u001b[39;49mvalidate_cycles(cycles)\n\u001b[1;32m    328\u001b[0m \u001b[39m# 3. Store results\u001b[39;00m\n\u001b[1;32m    329\u001b[0m \u001b[39mself\u001b[39m\u001b[39m.\u001b[39mcycles \u001b[39m=\u001b[39m cycles\n",
      "File \u001b[0;32m~/observation-sink-studies/studies/cycles/lib/thing.py:418\u001b[0m, in \u001b[0;36mThing.validate_cycles\u001b[0;34m(self, cycles)\u001b[0m\n\u001b[1;32m    416\u001b[0m idx \u001b[39m=\u001b[39m \u001b[39m0\u001b[39m\n\u001b[1;32m    417\u001b[0m \u001b[39mfor\u001b[39;00m result \u001b[39min\u001b[39;00m cycle\u001b[39m.\u001b[39mresults:\n\u001b[0;32m--> 418\u001b[0m     \u001b[39mif\u001b[39;00m previous_result \u001b[39mis\u001b[39;00m \u001b[39mnot\u001b[39;00m \u001b[39mNone\u001b[39;00m \u001b[39mand\u001b[39;00m result \u001b[39m!=\u001b[39;49m previous_result:\n\u001b[1;32m    419\u001b[0m         state_changes\u001b[39m.\u001b[39mappend((result, cycle\u001b[39m.\u001b[39mstart \u001b[39m+\u001b[39m idx))\n\u001b[1;32m    420\u001b[0m     previous_result \u001b[39m=\u001b[39m result\n",
      "\u001b[0;31mKeyboardInterrupt\u001b[0m: "
     ]
    }
   ],
   "source": [
    "# Prepare import of modules from parent directory.\n",
    "import os\n",
    "import sys\n",
    "module_path = os.path.abspath(os.path.join('../../'))\n",
    "if module_path not in sys.path:\n",
    "    sys.path.append(module_path)\n",
    "    \n",
    "from IPython.display import display, clear_output\n",
    "\n",
    "from studies import db\n",
    "from studies.cycles.lib import query_builder\n",
    "from studies.cycles.lib.thing import Thing\n",
    "from preparations import things_provider\n",
    "\n",
    "tp = things_provider.ThingsProvider()\n",
    "tp.filter_only_primary_signal_datastreams()\n",
    "primary_signal_datastream_ids = tp.get_datastream_ids()\n",
    "\n",
    "tp = things_provider.ThingsProvider()\n",
    "tp.filter_only_cycle_second_datastreams()\n",
    "cycle_second_datastream_ids = tp.get_datastream_ids()\n",
    "\n",
    "datastream_ids = primary_signal_datastream_ids + cycle_second_datastream_ids\n",
    "\n",
    "WINDOW_SIZE_DB = 100000\n",
    "WINDOW_SIZE_THINGS = 100\n",
    "LIMIT = 10000\n",
    "\n",
    "db = db.DBClient(WINDOW_SIZE_DB)\n",
    "relevant_observations_query_bike = query_builder.get_relevant_observations(datastream_ids, LIMIT)\n",
    "relevant_observation_rows_bike_generator = db.execute_query(relevant_observations_query_bike)\n",
    "\n",
    "tp = things_provider.ThingsProvider()\n",
    "things_and_layer_names_by_datastream_id = tp.get_map_from_datastream_ids_to_thing_names_and_layer_names()\n",
    "\n",
    "VALIDATION = False\n",
    "RETRIEVE_ALL_CLEANUP_STATS = False\n",
    "\n",
    "things: dict[str,Thing] = {}\n",
    "i = 0\n",
    "\n",
    "for row in relevant_observation_rows_bike_generator:\n",
    "    \n",
    "    thing_name, layer_name = things_and_layer_names_by_datastream_id[row[2]]\n",
    "    if thing_name is None:\n",
    "        raise Exception('Thing name is None for datastream id: ' + str(row[2]))\n",
    "    if layer_name is None:\n",
    "        raise Exception('Layer name is None for datastream id: ' + str(row[2]))\n",
    "    \n",
    "    if thing_name not in things:\n",
    "        things[thing_name] = Thing(thing_name, WINDOW_SIZE_THINGS, VALIDATION, RETRIEVE_ALL_CLEANUP_STATS)\n",
    "        \n",
    "    things[thing_name].add_observation(layer_name, row[0], row[1])\n",
    "    \n",
    "    clear_output(wait=True)\n",
    "    display('Iteration: ' + str(i) +' - Number of things ' + str(len(things)))\n",
    "    \n",
    "    i += 1\n",
    "\n",
    "db.close()\n"
   ]
  }
 ],
 "metadata": {
  "kernelspec": {
   "display_name": "Python 3 (ipykernel)",
   "language": "python",
   "name": "python3"
  },
  "language_info": {
   "codemirror_mode": {
    "name": "ipython",
    "version": 3
   },
   "file_extension": ".py",
   "mimetype": "text/x-python",
   "name": "python",
   "nbconvert_exporter": "python",
   "pygments_lexer": "ipython3",
   "version": "3.8.10"
  }
 },
 "nbformat": 4,
 "nbformat_minor": 2
}
