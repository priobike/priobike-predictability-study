{
 "cells": [
  {
   "cell_type": "code",
   "execution_count": 2,
   "metadata": {},
   "outputs": [
    {
     "name": "stdout",
     "output_type": "stream",
     "text": [
      "Amount of things: 19844\n",
      "Total number of datastreams: 79394\n",
      "Total number of relevant datastreams: 59473\n",
      "Number of datastreams not queried: 49166\n"
     ]
    },
    {
     "data": {
      "application/vnd.jupyter.widget-view+json": {
       "model_id": "b2d28b3cca7a4641b525553babb78a1e",
       "version_major": 2,
       "version_minor": 0
      },
      "text/plain": [
       "  0%|          | 0/4875 [00:00<?, ?it/s]"
      ]
     },
     "metadata": {},
     "output_type": "display_data"
    },
    {
     "name": "stdout",
     "output_type": "stream",
     "text": [
      "Number of things with missing primary signal: 393\n",
      "Number of things with missing cycle second: 148\n",
      "Number of times we skipped cycles because primary signal was missing: 3540\n"
     ]
    }
   ],
   "source": [
    "# Prepare import of modules from parent directory.\n",
    "import os\n",
    "import sys\n",
    "module_path = os.path.abspath(os.path.join('../../'))\n",
    "if module_path not in sys.path:\n",
    "    sys.path.append(module_path)\n",
    "\n",
    "from tqdm.notebook import tqdm\n",
    "import json\n",
    "\n",
    "from studies import np_encoder\n",
    "from studies.cycles.lib import data_processing\n",
    "from _config import OBSERVATIONS_CSV_FILE, RECONSTRUCTED_CYCLES_JSON_FILE\n",
    "\n",
    "datastreams_per_thing = data_processing.structure_observation_data(OBSERVATIONS_CSV_FILE)\n",
    "    \n",
    "# Directory of things where each thing ID maps to a list of programs with cycles for that thing\n",
    "thing_cycles = {}\n",
    "\n",
    "# Counts for how many things are missing the primary signal, cycle second, or signal program observations.\n",
    "primary_signal_missing_count = 0\n",
    "cycle_second_missing_count = 0\n",
    "signal_program_missing_count = 0\n",
    "\n",
    "# Count of how many times we skipped cycles because the primary signal was missing.\n",
    "total_skipped_cycles = 0\n",
    "\n",
    "for thing in tqdm(datastreams_per_thing):\n",
    "    datastreams = datastreams_per_thing[thing]\n",
    "    \n",
    "    cycles, primary_signal_missing, cycle_second_missing, skipped_cycles = data_processing.reconstruct_cycles(datastreams)\n",
    "    total_skipped_cycles += skipped_cycles\n",
    "    if primary_signal_missing:\n",
    "        primary_signal_missing_count += 1\n",
    "    if cycle_second_missing:\n",
    "        cycle_second_missing_count += 1\n",
    "        \n",
    "    # Signal program observations are optional.\n",
    "    if 'signal_program' not in datastreams:\n",
    "        signal_program_observations = None\n",
    "    else:\n",
    "        signal_program_observations = datastreams['signal_program']\n",
    "    if signal_program_observations is None:\n",
    "        signal_program_missing_count += 1\n",
    "    \n",
    "    # Observation data missing\n",
    "    if cycles is None:\n",
    "        continue\n",
    "    programs =  data_processing.reconstruct_programs(cycles, signal_program_observations)\n",
    "    if programs is None:\n",
    "        continue\n",
    "\n",
    "    thing_cycles[thing] = programs\n",
    "\n",
    "with open(RECONSTRUCTED_CYCLES_JSON_FILE, 'w') as f:\n",
    "    json.dump(thing_cycles, f, indent=4, cls=np_encoder.NpEncoder)\n",
    "    \n",
    "print('Number of things with missing primary signal: ' + str(primary_signal_missing_count))\n",
    "print('Number of things with missing cycle second: ' + str(cycle_second_missing_count))\n",
    "print('Number of times we skipped cycles because primary signal was missing: ' + str(total_skipped_cycles))"
   ]
  }
 ],
 "metadata": {
  "kernelspec": {
   "display_name": "Python 3 (ipykernel)",
   "language": "python",
   "name": "python3"
  },
  "orig_nbformat": 4
 },
 "nbformat": 4,
 "nbformat_minor": 2
}
