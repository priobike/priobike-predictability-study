{
 "cells": [
  {
   "cell_type": "code",
   "execution_count": 1,
   "metadata": {},
   "outputs": [
    {
     "name": "stdout",
     "output_type": "stream",
     "text": [
      "Amount of datastreams: 19824\n",
      "Amount of datastream ids: 19824\n"
     ]
    }
   ],
   "source": [
    "# Prepare import of modules from parent directory.\n",
    "import os\n",
    "import sys\n",
    "module_path = os.path.abspath(os.path.join('../../'))\n",
    "if module_path not in sys.path:\n",
    "    sys.path.append(module_path)\n",
    "\n",
    "\"\"\"\n",
    "Get all primary signal observations per minute.\n",
    "\"\"\"\n",
    "\n",
    "import json\n",
    "\n",
    "from studies import db\n",
    "from studies.observations_per_minute import query_builder\n",
    "from preparations import things_provider\n",
    "\n",
    "tp = things_provider.ThingsProvider()\n",
    "tp.filter_only_primary_signal_datastreams()\n",
    "primary_signal_datastream_ids = tp.get_datastream_ids()\n",
    "\n",
    "db = db.DBClient()\n",
    "primary_signal_observations_per_minute_query = query_builder.get_observations_per_minute_query(primary_signal_datastream_ids, False)\n",
    "primary_signal_observations_per_minute_rows = db.execute_query(primary_signal_observations_per_minute_query)\n",
    "db.close()\n",
    "\n",
    "primary_signal_observations_per_minute_timestamp_counts = {}\n",
    "\n",
    "for row in primary_signal_observations_per_minute_rows:\n",
    "    primary_signal_observations_per_minute_timestamp_counts[str(row[1] * 60)] = row[0]\n",
    "    \n",
    "with open('primary_signal_observations_per_minute_timestamp_counts.json', 'w', encoding='utf-8') as fp:\n",
    "    json.dump(primary_signal_observations_per_minute_timestamp_counts, fp)"
   ]
  },
  {
   "cell_type": "code",
   "execution_count": 2,
   "metadata": {},
   "outputs": [
    {
     "name": "stdout",
     "output_type": "stream",
     "text": [
      "Amount of datastreams: 5418\n",
      "Amount of datastream ids: 5418\n"
     ]
    }
   ],
   "source": [
    "# Prepare import of modules from parent directory.\n",
    "import os\n",
    "import sys\n",
    "module_path = os.path.abspath(os.path.join('../../'))\n",
    "if module_path not in sys.path:\n",
    "    sys.path.append(module_path)\n",
    "\n",
    "\"\"\"\n",
    "Get all primary signal observations per minute for bike things.\n",
    "\"\"\"\n",
    "\n",
    "import json\n",
    "\n",
    "from studies import db\n",
    "from studies.observations_per_minute import query_builder\n",
    "from preparations import things_provider\n",
    "\n",
    "tp = things_provider.ThingsProvider()\n",
    "tp.filter_only_bike_things()\n",
    "tp.filter_only_primary_signal_datastreams()\n",
    "primary_signal_datastream_ids_bike = tp.get_datastream_ids()\n",
    "\n",
    "db = db.DBClient()\n",
    "primary_signal_observations_per_minute_query_bike = query_builder.get_observations_per_minute_query(primary_signal_datastream_ids_bike, False)\n",
    "primary_signal_observations_per_minute_rows_bike = db.execute_query(primary_signal_observations_per_minute_query_bike)\n",
    "db.close()\n",
    "\n",
    "primary_signal_observations_per_minute_timestamp_counts_bike = {}\n",
    "\n",
    "for row in primary_signal_observations_per_minute_rows_bike:\n",
    "    primary_signal_observations_per_minute_timestamp_counts_bike[str(row[1] * 60)] = row[0]\n",
    "    \n",
    "with open('primary_signal_observations_per_minute_timestamp_counts_bike.json', 'w', encoding='utf-8') as fp:\n",
    "    json.dump(primary_signal_observations_per_minute_timestamp_counts_bike, fp)"
   ]
  },
  {
   "cell_type": "code",
   "execution_count": 3,
   "metadata": {},
   "outputs": [
    {
     "name": "stdout",
     "output_type": "stream",
     "text": [
      "Amount of datastreams: 5418\n",
      "Amount of datastream ids: 5418\n"
     ]
    }
   ],
   "source": [
    "\n",
    "# Prepare import of modules from parent directory.\n",
    "import os\n",
    "import sys\n",
    "module_path = os.path.abspath(os.path.join('../../'))\n",
    "if module_path not in sys.path:\n",
    "    sys.path.append(module_path)\n",
    "\n",
    "\"\"\"\n",
    "Get all primary signal observations per minute for bike things (only mqtt).\n",
    "\"\"\"\n",
    "\n",
    "import json\n",
    "\n",
    "from studies import db\n",
    "from studies.observations_per_minute import query_builder\n",
    "from preparations import things_provider\n",
    "\n",
    "tp = things_provider.ThingsProvider()\n",
    "tp.filter_only_bike_things()\n",
    "tp.filter_only_primary_signal_datastreams()\n",
    "primary_signal_datastream_ids_bike = tp.get_datastream_ids()\n",
    "\n",
    "db = db.DBClient()\n",
    "primary_signal_observations_per_minute_query_bike_mqtt = query_builder.get_observations_per_minute_query(primary_signal_datastream_ids_bike, True)\n",
    "primary_signal_observations_per_minute_rows_bike_mqtt = db.execute_query(primary_signal_observations_per_minute_query_bike_mqtt)\n",
    "db.close()\n",
    "\n",
    "primary_signal_observations_per_minute_timestamp_counts_bike_mqtt = {}\n",
    "\n",
    "for row in primary_signal_observations_per_minute_rows_bike_mqtt:\n",
    "    primary_signal_observations_per_minute_timestamp_counts_bike_mqtt[str(row[1] * 60)] = row[0]\n",
    "    \n",
    "with open('primary_signal_observations_per_minute_timestamp_counts_bike_mqtt.json', 'w', encoding='utf-8') as fp:\n",
    "    json.dump(primary_signal_observations_per_minute_timestamp_counts_bike_mqtt, fp)"
   ]
  }
 ],
 "metadata": {
  "kernelspec": {
   "display_name": "Python 3 (ipykernel)",
   "language": "python",
   "name": "python3"
  },
  "language_info": {
   "codemirror_mode": {
    "name": "ipython",
    "version": 3
   },
   "file_extension": ".py",
   "mimetype": "text/x-python",
   "name": "python",
   "nbconvert_exporter": "python",
   "pygments_lexer": "ipython3",
   "version": "3.8.10"
  },
  "orig_nbformat": 4
 },
 "nbformat": 4,
 "nbformat_minor": 2
}
