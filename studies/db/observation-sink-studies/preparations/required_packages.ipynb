{
 "cells": [
  {
   "cell_type": "code",
   "execution_count": 4,
   "metadata": {},
   "outputs": [
    {
     "name": "stdout",
     "output_type": "stream",
     "text": [
      "Requirement already satisfied: psycopg2 in /usr/lib/python3/dist-packages (2.8.4)\n",
      "Requirement already satisfied: matplotlib in /home/admin/.local/lib/python3.8/site-packages (3.7.3)\n",
      "Requirement already satisfied: numpy<2,>=1.20 in /home/admin/.local/lib/python3.8/site-packages (from matplotlib) (1.24.4)\n",
      "Requirement already satisfied: packaging>=20.0 in /home/admin/.local/lib/python3.8/site-packages (from matplotlib) (23.1)\n",
      "Requirement already satisfied: kiwisolver>=1.0.1 in /home/admin/.local/lib/python3.8/site-packages (from matplotlib) (1.4.5)\n",
      "Requirement already satisfied: pillow>=6.2.0 in /home/admin/.local/lib/python3.8/site-packages (from matplotlib) (10.0.1)\n",
      "Requirement already satisfied: fonttools>=4.22.0 in /home/admin/.local/lib/python3.8/site-packages (from matplotlib) (4.42.1)\n",
      "Requirement already satisfied: contourpy>=1.0.1 in /home/admin/.local/lib/python3.8/site-packages (from matplotlib) (1.1.1)\n",
      "Requirement already satisfied: cycler>=0.10 in /home/admin/.local/lib/python3.8/site-packages (from matplotlib) (0.11.0)\n",
      "Requirement already satisfied: pyparsing>=2.3.1 in /home/admin/.local/lib/python3.8/site-packages (from matplotlib) (3.1.1)\n",
      "Requirement already satisfied: python-dateutil>=2.7 in /home/admin/.local/lib/python3.8/site-packages (from matplotlib) (2.8.2)\n",
      "Requirement already satisfied: importlib-resources>=3.2.0; python_version < \"3.10\" in /home/admin/.local/lib/python3.8/site-packages (from matplotlib) (6.0.1)\n",
      "Requirement already satisfied: six>=1.5 in /usr/lib/python3/dist-packages (from python-dateutil>=2.7->matplotlib) (1.14.0)\n",
      "Requirement already satisfied: zipp>=3.1.0; python_version < \"3.10\" in /home/admin/.local/lib/python3.8/site-packages (from importlib-resources>=3.2.0; python_version < \"3.10\"->matplotlib) (3.16.2)\n",
      "Requirement already satisfied: pandas in /home/admin/.local/lib/python3.8/site-packages (2.0.3)\n",
      "Requirement already satisfied: pytz>=2020.1 in /data/python3.8/dist-packages (from pandas) (2023.2)\n",
      "Requirement already satisfied: tzdata>=2022.1 in /home/admin/.local/lib/python3.8/site-packages (from pandas) (2023.3)\n",
      "Requirement already satisfied: numpy>=1.20.3; python_version < \"3.10\" in /home/admin/.local/lib/python3.8/site-packages (from pandas) (1.24.4)\n",
      "Requirement already satisfied: python-dateutil>=2.8.2 in /home/admin/.local/lib/python3.8/site-packages (from pandas) (2.8.2)\n",
      "Requirement already satisfied: six>=1.5 in /usr/lib/python3/dist-packages (from python-dateutil>=2.8.2->pandas) (1.14.0)\n",
      "Requirement already satisfied: tqdm in /home/admin/.local/lib/python3.8/site-packages (4.66.1)\n",
      "Requirement already satisfied: folium in /home/admin/.local/lib/python3.8/site-packages (0.14.0)\n",
      "Requirement already satisfied: jinja2>=2.9 in /home/admin/.local/lib/python3.8/site-packages (from folium) (3.1.2)\n",
      "Requirement already satisfied: branca>=0.6.0 in /home/admin/.local/lib/python3.8/site-packages (from folium) (0.6.0)\n",
      "Requirement already satisfied: requests in /home/admin/.local/lib/python3.8/site-packages (from folium) (2.31.0)\n",
      "Requirement already satisfied: numpy in /home/admin/.local/lib/python3.8/site-packages (from folium) (1.24.4)\n",
      "Requirement already satisfied: MarkupSafe>=2.0 in /home/admin/.local/lib/python3.8/site-packages (from jinja2>=2.9->folium) (2.1.3)\n",
      "Requirement already satisfied: urllib3<3,>=1.21.1 in /usr/lib/python3/dist-packages (from requests->folium) (1.25.8)\n",
      "Requirement already satisfied: charset-normalizer<4,>=2 in /home/admin/.local/lib/python3.8/site-packages (from requests->folium) (3.2.0)\n",
      "Requirement already satisfied: certifi>=2017.4.17 in /usr/lib/python3/dist-packages (from requests->folium) (2019.11.28)\n",
      "Requirement already satisfied: idna<4,>=2.5 in /usr/lib/python3/dist-packages (from requests->folium) (2.8)\n",
      "Requirement already satisfied: juliacall in /home/admin/.local/lib/python3.8/site-packages (0.9.14)\n",
      "Requirement already satisfied: juliapkg~=0.1.8 in /home/admin/.local/lib/python3.8/site-packages (from juliacall) (0.1.10)\n",
      "Requirement already satisfied: semantic-version~=2.9 in /home/admin/.local/lib/python3.8/site-packages (from juliapkg~=0.1.8->juliacall) (2.10.0)\n"
     ]
    },
    {
     "name": "stderr",
     "output_type": "stream",
     "text": [
      "   Resolving package versions...\n",
      "  No Changes to `~/.julia/environments/pyjuliapkg/Project.toml`\n",
      "  No Changes to `~/.julia/environments/pyjuliapkg/Manifest.toml`\n"
     ]
    }
   ],
   "source": [
    "!pip install psycopg2\n",
    "!pip install matplotlib\n",
    "!pip install pandas\n",
    "!pip install tqdm\n",
    "!pip install folium\n",
    "!pip install juliacall\n",
    "from juliacall import Main as jl\n",
    "jl.Pkg.add(\"OnlineStats\")"
   ]
  }
 ],
 "metadata": {
  "kernelspec": {
   "display_name": "Python 3 (ipykernel)",
   "language": "python",
   "name": "python3"
  },
  "language_info": {
   "codemirror_mode": {
    "name": "ipython",
    "version": 3
   },
   "file_extension": ".py",
   "mimetype": "text/x-python",
   "name": "python",
   "nbconvert_exporter": "python",
   "pygments_lexer": "ipython3",
   "version": "3.8.10"
  },
  "orig_nbformat": 4
 },
 "nbformat": 4,
 "nbformat_minor": 2
}
