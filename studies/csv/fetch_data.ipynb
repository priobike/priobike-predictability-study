{
 "cells": [
  {
   "cell_type": "code",
   "execution_count": 4,
   "metadata": {},
   "outputs": [
    {
     "data": {
      "application/vnd.jupyter.widget-view+json": {
       "model_id": "5c1e6090e00c4c9ca09026efcab733f2",
       "version_major": 2,
       "version_minor": 0
      },
      "text/plain": [
       "Downloading files:   0%|          | 0/49550 [00:00<?, ?it/s]"
      ]
     },
     "metadata": {},
     "output_type": "display_data"
    }
   ],
   "source": [
    "import requests\n",
    "import os\n",
    "from tqdm.notebook import tqdm\n",
    "\n",
    "BASE_RUL = \"https://priobike.vkw.tu-dresden.de/staging/observation-sink-nginx\"\n",
    "INDEX_FILE = \"/index.json\"\n",
    "LOCAL_HISTORY_DIRECTORY = \"observation_files/\"\n",
    "\n",
    "session = requests.Session()\n",
    "\n",
    "index = session.get(BASE_RUL + INDEX_FILE).json()\n",
    "\n",
    "for item in tqdm(index, desc=f'Downloading files', total=len(index)):\n",
    "    file_server_path = item[\"file\"].replace(\"/usr/share/nginx/html\", \"\")\n",
    "    file_server_url = BASE_RUL + file_server_path\n",
    "    \n",
    "    file_name = file_server_path.split(\"/\")[-1]\n",
    "    file_folder_name = file_server_path.split(\"/\")[-2]\n",
    "    \n",
    "    exists = os.path.exists(LOCAL_HISTORY_DIRECTORY + file_folder_name)\n",
    "    if not exists:\n",
    "        os.makedirs(LOCAL_HISTORY_DIRECTORY + file_folder_name)\n",
    "    \n",
    "    with open(LOCAL_HISTORY_DIRECTORY + file_folder_name + \"/\" + file_name, \"wb\") as file:\n",
    "        file.write(session.get(file_server_url).content)"
   ]
  }
 ],
 "metadata": {
  "kernelspec": {
   "display_name": "Python 3",
   "language": "python",
   "name": "python3"
  },
  "language_info": {
   "codemirror_mode": {
    "name": "ipython",
    "version": 3
   },
   "file_extension": ".py",
   "mimetype": "text/x-python",
   "name": "python",
   "nbconvert_exporter": "python",
   "pygments_lexer": "ipython3",
   "version": "3.11.4"
  },
  "orig_nbformat": 4
 },
 "nbformat": 4,
 "nbformat_minor": 2
}
